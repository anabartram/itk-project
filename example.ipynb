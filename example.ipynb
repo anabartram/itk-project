{
 "cells": [
  {
   "cell_type": "markdown",
   "id": "0ba01749",
   "metadata": {},
   "source": [
    "# ITKElastix Projekt"
   ]
  },
  {
   "cell_type": "markdown",
   "id": "277331cf",
   "metadata": {},
   "source": [
    "## About ITK Elastix\n",
    "\n",
    "ITK Elastix is an ITK Python interface to elastix, a toolbox for rigid and nonrigid registration of images.\n",
    "\n",
    "ITK is an open source project and during its lifetime was used by various other tools, both commerial and open source, including but not limited to: 3D Slicer, ANTS, Elastix, ITK-Snap, MITK, OsiriX, Seg3D, Vaa3D, Voreen, VV.[[fninf]]\n"
   ]
  },
  {
   "cell_type": "markdown",
   "id": "31c42e0c",
   "metadata": {},
   "source": [
    "## History\n",
    "\n",
    "### ITK\n",
    "\n",
    "The Insight Toolkit was concieved in 1999 by the US National Institute of Health National Library of Medicine (NIH-NLM) in order to support analysis of the of **The Visible Human Project** data[[1 - itk.org website]]. NIH-NLM awarded six three-year contracts to six contractors *GE Corporate R&D*, *Kitware Inc.*, *Mathsoft*, *University of North Carolina*, *University of Tennessee* and *University of Pennsylvania*. The team was coordinated by Dr. Terry Yoo. in 2004, the individual ITK developers incorporated the **Insight Software Consortium (ISC)** and got the copyrights for the project[https://www.insightsoftwareconsortium.org/].\n",
    "\n",
    "In 2002, the first public version was released.\n",
    "\n",
    "In 2005 the **ISC** created an open access on-line scientific journal, the **Insight Journal**.[[insight-journal.org]]\n",
    "\n",
    "Between 2010 and 2011 the project experienced major refactoring of its source code. Following this, ITK 4.0.0 launched in December 2011.[[itk.org]]\n",
    "\n",
    "In 2011 **SimpleITK** was started in order to simplify the API of ITK[[pydata conference]]\n",
    "\n",
    "### Elastix\n",
    "\n",
    "Elastix started half to late 2003 and was intended to facilitate image registration research at **Image Sciences Institute**, Utrecht, the Netherlands.\n",
    "Major version 3.0 was released in November 2004. [[2 - Elastix wiki]]\n",
    "\n",
    "Around 2008 and 2009 the project went through changes in order to become more useful to a wider audience: improved documentation, first version of manual, new BSD license and the authors wrote a paper: *elastix: A Toolbox for Intensity-Based Medical Image Registration* [[3 - Elastix wiki]](#References).\n",
    "\n",
    "Kasper Marstal created SimpleElastix in 2015, making elastix natively available in C++, Python, Java, R, Ruby, C+, Lua and Tcl [[4 - SimpleElastix]](#References)\n",
    "https://simpleelastix.github.io/\n",
    "\n",
    "2017 Moved to Github"
   ]
  },
  {
   "cell_type": "markdown",
   "id": "9d93983a",
   "metadata": {},
   "source": [
    "## Features\n",
    "\n",
    "**ITK**\n",
    "ITK is a collection of algorithms for image segmentation and registration for the medical field, such as MRT or CT. The toolkit provides data representation for images of arbitrary dimension (N dimension) or meshes. [[itk.org]]\n",
    "\n",
    "**Elastix**\n",
    "Elastix is a software used for registration of images.\n",
    "It supports:\n",
    "* transform models\n",
    "** rigid\n",
    "** affine\n",
    "** non-rigid\n",
    "* similarity measures\n",
    "** mutual information\n",
    "** mean squared difference\n",
    "** normalised correlation coefficient\n",
    "* optimization methods\n",
    "** gradient descent\n",
    "** Ribbins-Monro\n",
    "* interpolation methods\n",
    "** nearest neighbor,\n",
    "** linear\n",
    "** cubic\n",
    "* multi-resolution schemes. [[elastix wiki, elastix manual]]\n",
    "\n",
    "![elastix-components](images/elastix-components.PNG)\n",
    "\n",
    "   Elastix registration components\n",
    "\n",
    "Explanation for components in picture."
   ]
  },
  {
   "cell_type": "markdown",
   "id": "1f8dc86f",
   "metadata": {},
   "source": [
    "## Important Links\n",
    "### ITK\n",
    "* https://itk.org/ (Official Website ITK)\n",
    "* https://github.com/InsightSoftwareConsortium/ITK (ITK Source Code)\n",
    "* https://itk.org/ItkSoftwareGuide.pdf (ITK Developer Guide)\n",
    "* https://itk.org/Doxygen/html/index.html (API Documentation)\n",
    "* https://itkpythonpackage.readthedocs.io/en/master/Quick_start_guide.html (ITK Phython Package)\n",
    "\n",
    "### Elastix\n",
    "* https://elastix.lumc.nl/ (Official Website Elastix)\n",
    "* https://elastix.lumc.nl/modelzoo/ (Parameter Database)\n",
    "* https://github.com/SuperElastix/elastix/wiki (Wiki)\n",
    "* https://elastix.lumc.nl/doxygen/index.html (API Documentation)\n",
    "\n"
   ]
  },
  {
   "cell_type": "markdown",
   "id": "3f23de69",
   "metadata": {},
   "source": [
    "## Project Finance\n",
    "\n",
    "The project was initially funded by the **US National Library of Medicine (NLM)**.[[insightsoftwareconsortium.org]]. The **NLM** continued funding the project over the years.\n",
    "\n",
    "Supported by **Kitware** and **Insight Software Consortium (ISC)**.\n",
    "\n",
    "Major funding effort in July 2010 followed by the release of 4.0.0 in December 2011.[[itk.org]]\n",
    "\n",
    "In 2020 ITK was recognized by **NumFOCUS** as a Sponsored Project [[numfocus.org/project/itk]] and is open to donations."
   ]
  },
  {
   "cell_type": "markdown",
   "id": "913997b7",
   "metadata": {},
   "source": [
    "## Alternatives\n",
    "\n",
    "Other software packages that perform image registration are available: AIR, ART, ANTS, bUnwarpJ, DROP, FNIRT, HAMMER, IRTK, SPM. [[2010_j_TMI]]\n",
    "\n"
   ]
  },
  {
   "cell_type": "markdown",
   "id": "929cd681",
   "metadata": {},
   "source": [
    "## Exercise\n",
    "\n",
    "Image registration of lung CT scans.\n",
    "\n",
    "## Registration\n",
    "\n",
    "The problem of image registration consists of finding right transformation function to align/match an image usually called moved_image to a reference image often called the fixed image. [[elastix-pdf, +]]\n",
    "\n",
    "![reg-types](images/Types-Registration.PNG)\n",
    "\n",
    "      Types of transformation functions."
   ]
  },
  {
   "cell_type": "code",
   "execution_count": 1,
   "id": "d7bc5ef1",
   "metadata": {},
   "outputs": [],
   "source": [
    "import itk,itkwidgets"
   ]
  },
  {
   "cell_type": "markdown",
   "id": "4386da0b",
   "metadata": {},
   "source": [
    "## Data\n",
    "\n",
    "We used data from Learn2Reg challenge[[data]] dataset Task2: CT Lung Registration Training Data.\n",
    "The data consists of a pair of CT images, one for breath hold at maximum exhale and one for breath hold at maximum inhale.\n",
    "\n",
    "The data also contains lung masks for both positions.\n"
   ]
  },
  {
   "cell_type": "code",
   "execution_count": 2,
   "id": "f08a1986",
   "metadata": {},
   "outputs": [],
   "source": [
    "expimg=itk.imread(\"data/scans/case_012_exp.nii.gz\",itk.F)\n",
    "insimg=itk.imread(\"data/scans/case_012_insp.nii.gz\",itk.F)"
   ]
  },
  {
   "cell_type": "markdown",
   "id": "70800426",
   "metadata": {},
   "source": [
    "## Used Transformations\n",
    "1. Rigid\n",
    "2. Affine \n",
    "2. Bspline\n",
    "3. Bspline with Lung Mask"
   ]
  },
  {
   "cell_type": "markdown",
   "id": "c493de97",
   "metadata": {},
   "source": [
    "### 1. Rigid\n",
    "\n",
    "For the rigid transformation example we'll use the default parameter map for rigid transformation."
   ]
  },
  {
   "cell_type": "code",
   "execution_count": 3,
   "id": "8b7c9878",
   "metadata": {},
   "outputs": [],
   "source": [
    "parameter_object = itk.ParameterObject.New()\n",
    "parameter_map_rigid = parameter_object.GetDefaultParameterMap('rigid')\n",
    "parameter_object.AddParameterMap(parameter_map_rigid)"
   ]
  },
  {
   "cell_type": "code",
   "execution_count": 4,
   "id": "ca9c66a6",
   "metadata": {},
   "outputs": [],
   "source": [
    "result_rigid, result_rigid_transform_parameters = itk.elastix_registration_method(\n",
    "    insimg, expimg,\n",
    "    parameter_object=parameter_object)"
   ]
  },
  {
   "cell_type": "markdown",
   "id": "d03a3b6a",
   "metadata": {},
   "source": [
    "We can see the results with the help of itkwidgets."
   ]
  },
  {
   "cell_type": "code",
   "execution_count": 11,
   "id": "8860ec20",
   "metadata": {},
   "outputs": [
    {
     "data": {
      "application/vnd.jupyter.widget-view+json": {
       "model_id": "ac4bd3ead5e948488040f437ec03cbc7",
       "version_major": 2,
       "version_minor": 0
      },
      "text/plain": [
       "AppLayout(children=(HBox(children=(Label(value='Link:'), Checkbox(value=False, description='cmap'), Checkbox(v…"
      ]
     },
     "metadata": {},
     "output_type": "display_data"
    }
   ],
   "source": [
    "itkwidgets.compare(expimg,result_rigid)"
   ]
  },
  {
   "cell_type": "code",
   "execution_count": null,
   "id": "ccf45c1e",
   "metadata": {},
   "outputs": [],
   "source": []
  },
  {
   "cell_type": "markdown",
   "id": "6c4243cf",
   "metadata": {},
   "source": [
    "### 2. Affine \n",
    "\n",
    "For the second transform we'll use the affine parameter maps from the paper *Pulmonary Image Registration with elastix using a Standard Intensity-Based Algorithm*.[[2010_c_]]\n",
    "\n"
   ]
  },
  {
   "cell_type": "code",
   "execution_count": 7,
   "id": "df38a789",
   "metadata": {},
   "outputs": [],
   "source": [
    "parameter_object2 = itk.ParameterObject.New()\n",
    "parameter_object2.AddParameterFile(\"Parameters.Par0011.affine.txt\")"
   ]
  },
  {
   "cell_type": "code",
   "execution_count": 8,
   "id": "b69fe663",
   "metadata": {},
   "outputs": [],
   "source": [
    "result_2, result_2_transform_parameters = itk.elastix_registration_method(\n",
    "    insimg, expimg,\n",
    "    parameter_object=parameter_object2)"
   ]
  },
  {
   "cell_type": "code",
   "execution_count": 9,
   "id": "0c3a0ded",
   "metadata": {},
   "outputs": [
    {
     "data": {
      "application/vnd.jupyter.widget-view+json": {
       "model_id": "cc74554734544390aa06a572d5afc4d9",
       "version_major": 2,
       "version_minor": 0
      },
      "text/plain": [
       "AppLayout(children=(HBox(children=(Label(value='Link:'), Checkbox(value=False, description='cmap'), Checkbox(v…"
      ]
     },
     "metadata": {},
     "output_type": "display_data"
    }
   ],
   "source": [
    "itkwidgets.compare(expimg,result_2)"
   ]
  },
  {
   "cell_type": "markdown",
   "id": "ef1bea78",
   "metadata": {},
   "source": [
    "### 3. Bspline"
   ]
  },
  {
   "cell_type": "code",
   "execution_count": 10,
   "id": "c82b3b8c",
   "metadata": {},
   "outputs": [],
   "source": [
    "parameter_object2.AddParameterFile(\"Parameters.Par0011.bspline1_s.txt\")\n",
    "result_3, result_3_transform_parameters = itk.elastix_registration_method(\n",
    "    insimg, expimg,\n",
    "    parameter_object=parameter_object2)"
   ]
  },
  {
   "cell_type": "code",
   "execution_count": null,
   "id": "2edb38b4",
   "metadata": {},
   "outputs": [],
   "source": [
    "itkwidgets.compare(expimg,result_3)"
   ]
  },
  {
   "cell_type": "markdown",
   "id": "fe0c8708",
   "metadata": {},
   "source": [
    "### 4. Bspline with Mask"
   ]
  },
  {
   "cell_type": "code",
   "execution_count": null,
   "id": "75ab2c8f",
   "metadata": {},
   "outputs": [],
   "source": [
    "insmask = itk.imread(\"data/lungMasks/case_012_insp.nii.gz\")"
   ]
  },
  {
   "cell_type": "code",
   "execution_count": null,
   "id": "f589862b",
   "metadata": {},
   "outputs": [],
   "source": [
    "itkwidgets.view(insmask)"
   ]
  },
  {
   "cell_type": "code",
   "execution_count": null,
   "id": "64ef1298",
   "metadata": {},
   "outputs": [],
   "source": [
    "parameter_object2.AddParameterFile(\"Parameters.Par0011.bspline2_s.txt\")"
   ]
  },
  {
   "cell_type": "code",
   "execution_count": null,
   "id": "e1e12f02",
   "metadata": {},
   "outputs": [],
   "source": [
    "result_3, result_3_transform_parameters = itk.elastix_registration_method(\n",
    "    insimg, expimg, fixed_mask=insmask,\n",
    "    parameter_object=parameter_object2)"
   ]
  },
  {
   "cell_type": "code",
   "execution_count": null,
   "id": "1e819812",
   "metadata": {},
   "outputs": [],
   "source": []
  },
  {
   "cell_type": "code",
   "execution_count": null,
   "id": "a01e337a",
   "metadata": {},
   "outputs": [],
   "source": [
    "itkwidgets.compare(insimg, result_3)"
   ]
  },
  {
   "cell_type": "markdown",
   "id": "d8260732",
   "metadata": {},
   "source": [
    "## References\n",
    "\n",
    "**1.** K. Marstal, F. Berendsen, M. Staring and S. Klein, \"SimpleElastix: A User-Friendly, Multi-lingual Library for Medical Image Registration,\" 2016 IEEE Conference on Computer Vision and Pattern Recognition Workshops (CVPRW), 2016, pp. 574-582, doi: 10.1109/CVPRW.2016.78.\n",
    "\n",
    "**2** Matt McCormik, \"ITK in Biomedical Research and  Commecial Applications,\" PyData Carolinas, 2016\n",
    "\n",
    "**3** S. Klein, M. Staring, K. Murphy, M. A. Viergever and J. P. W. Pluim, \"elastix: A Toolbox for Intensity-Based Medical Image Registration,\" in IEEE Transactions on Medical Imaging, vol. 29, no. 1, pp. 196-205, Jan. 2010, doi: 10.1109/TMI.2009.2035616."
   ]
  },
  {
   "cell_type": "markdown",
   "id": "838b7af9",
   "metadata": {},
   "source": []
  },
  {
   "cell_type": "code",
   "execution_count": null,
   "id": "5d4f9983",
   "metadata": {},
   "outputs": [],
   "source": []
  },
  {
   "cell_type": "code",
   "execution_count": null,
   "id": "19ac7e49",
   "metadata": {},
   "outputs": [],
   "source": []
  }
 ],
 "metadata": {
  "kernelspec": {
   "display_name": "Python 3",
   "language": "python",
   "name": "python3"
  },
  "language_info": {
   "codemirror_mode": {
    "name": "ipython",
    "version": 3
   },
   "file_extension": ".py",
   "mimetype": "text/x-python",
   "name": "python",
   "nbconvert_exporter": "python",
   "pygments_lexer": "ipython3",
   "version": "3.9.5"
  }
 },
 "nbformat": 4,
 "nbformat_minor": 5
}
