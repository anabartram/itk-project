{
 "cells": [
  {
   "cell_type": "markdown",
   "id": "9e4a046b",
   "metadata": {},
   "source": [
    "# ITKElastix Projekt"
   ]
  },
  {
   "cell_type": "markdown",
   "id": "3ac42aa7",
   "metadata": {},
   "source": [
    "## About ITK Elastix\n",
    "\n",
    "ITK Elastix is an ITK Python interface to elastix, a toolbox for rigid and nonrigid registration of images.\n",
    "\n",
    "ITK is an open source project and during its lifetime was used by various other tools, both commerial and open source, including but not limited to: 3D Slicer, ANTS, Elastix, ITK-Snap, MITK, OsiriX, Seg3D, Vaa3D, Voreen, VV.[[1]](#References)\n"
   ]
  },
  {
   "cell_type": "markdown",
   "id": "e16ab475",
   "metadata": {},
   "source": [
    "## History\n",
    "\n",
    "### ITK\n",
    "\n",
    "The Insight Toolkit was concieved in 1999 by the US National Institute of Health National Library of Medicine (NIH-NLM) in order to support analysis of the of **The Visible Human Project** data[[2]](#References). NIH-NLM awarded six three-year contracts to six contractors *GE Corporate R&D*, *Kitware Inc.*, *Mathsoft*, *University of North Carolina*, *University of Tennessee* and *University of Pennsylvania*. The team was coordinated by Dr. Terry Yoo. in 2004, the individual ITK developers incorporated the **Insight Software Consortium (ISC)** and got the copyrights for the project[[3]](#References).\n",
    "\n",
    "In 2002, the first public version was released.\n",
    "\n",
    "In 2005 the **ISC** created an open access on-line scientific journal, the [Insight Journal](https://www.insight-journal.org/).[[3]](#References)\n",
    "\n",
    "Between 2010 and 2011 the project experienced major refactoring of its source code. Following this, ITK 4.0.0 launched in December 2011.[[1]](#References)\n",
    "\n",
    "In 2011 **SimpleITK** was started in order to simplify the API of ITK[[4]](#References)\n",
    "\n",
    "### Elastix\n",
    "\n",
    "Elastix started half to late 2003 and was intended to facilitate image registration research at **Image Sciences Institute**, Utrecht, the Netherlands.\n",
    "Major version 3.0 was released in November 2004.[[5]](#References)\n",
    "\n",
    "Around 2008 and 2009 the project went through changes in order to become more useful to a wider audience: improved documentation, first version of manual, new BSD license and the authors wrote a paper: *elastix: A Toolbox for Intensity-Based Medical Image Registration* [[5, 6]](#References).\n",
    "\n",
    "Kasper Marstal created SimpleElastix in 2015, making elastix natively available in C++, Python, Java, R, Ruby, C+, Lua and Tcl [[7]](#References)\n",
    "\n",
    "In 2017 the project moved to Github."
   ]
  },
  {
   "cell_type": "markdown",
   "id": "77504114",
   "metadata": {},
   "source": [
    "## Features\n",
    "\n",
    "**ITK**\n",
    "ITK is a collection of algorithms for image segmentation and registration for the medical field, such as MRT or CT. The toolkit provides data representation for images of arbitrary dimension (N dimension) or meshes. [[2]](#References)\n",
    "\n",
    "**Elastix**\n",
    "Elastix is a software used for registration of images.\n",
    "It supports:\n",
    "* transform models\n",
    "** rigid\n",
    "** affine\n",
    "** non-rigid\n",
    "* similarity measures\n",
    "** mutual information\n",
    "** mean squared difference\n",
    "** normalised correlation coefficient\n",
    "* optimization methods\n",
    "** gradient descent\n",
    "** Ribbins-Monro\n",
    "* interpolation methods\n",
    "** nearest neighbor,\n",
    "** linear\n",
    "** cubic\n",
    "* multi-resolution schemes. [[8, 9]](#References)\n",
    "\n",
    "![elastix-components](images/elastix-components.PNG)\n",
    "\n",
    "   Elastix registration components\n"
   ]
  },
  {
   "cell_type": "markdown",
   "id": "b5309772",
   "metadata": {},
   "source": [
    "## Important Links\n",
    "### ITK\n",
    "* https://itk.org/ (Official Website ITK)\n",
    "* https://github.com/InsightSoftwareConsortium/ITK (ITK Source Code)\n",
    "* https://itk.org/ItkSoftwareGuide.pdf (ITK Developer Guide)\n",
    "* https://itk.org/Doxygen/html/index.html (API Documentation)\n",
    "* https://itkpythonpackage.readthedocs.io/en/master/Quick_start_guide.html (ITK Phython Package)\n",
    "\n",
    "### Elastix\n",
    "* https://elastix.lumc.nl/ (Official Website Elastix)\n",
    "* https://elastix.lumc.nl/modelzoo/ (Parameter Database)\n",
    "* https://github.com/SuperElastix/elastix/wiki (Wiki)\n",
    "* https://elastix.lumc.nl/doxygen/index.html (API Documentation)\n",
    "\n"
   ]
  },
  {
   "cell_type": "markdown",
   "id": "1f37c2ce",
   "metadata": {},
   "source": [
    "## Project Finance\n",
    "\n",
    "The project was initially funded by the **US National Library of Medicine (NLM)**.[[3]](#References). The **NLM** continued funding the project over the years.\n",
    "\n",
    "Supported by **Kitware** and **Insight Software Consortium (ISC)**.\n",
    "\n",
    "Major funding effort in July 2010 followed by the release of 4.0.0 in December 2011.[[1]](#References)\n",
    "\n",
    "In 2020 ITK was recognized by **NumFOCUS** as a Sponsored Project [[10]](#References) and is open to donations."
   ]
  },
  {
   "cell_type": "markdown",
   "id": "b5aae736",
   "metadata": {},
   "source": [
    "## Alternatives\n",
    "\n",
    "Other software packages that perform image registration are available: AIR, ART, ANTS, bUnwarpJ, DROP, FNIRT, HAMMER, IRTK, SPM. [[6]](#References)\n",
    "\n"
   ]
  },
  {
   "cell_type": "markdown",
   "id": "d4282997",
   "metadata": {},
   "source": [
    "## Exercise\n",
    "\n",
    "Image registration of lung CT scans.\n",
    "\n",
    "## Registration\n",
    "\n",
    "The problem of image registration consists of finding right transformation function to align/match an image usually called moved_image to a reference image often called the fixed image. [[9]](#References)\n",
    "\n",
    "![reg-types](images/Types-Registration.PNG)\n",
    "\n",
    "      Types of transformation functions."
   ]
  },
  {
   "cell_type": "code",
   "execution_count": null,
   "id": "01969c59",
   "metadata": {},
   "outputs": [],
   "source": [
    "import itk, itkwidgets, time"
   ]
  },
  {
   "cell_type": "markdown",
   "id": "c79d0ad5",
   "metadata": {},
   "source": [
    "## Data\n",
    "\n",
    "We used data from Learn2Reg challenge[[11]](#References) dataset Task2: CT Lung Registration Training Data.\n",
    "The data consists of a pair of CT images, one for breath hold at maximum exhale and one for breath hold at maximum inhale.\n",
    "\n",
    "The data also contains lung masks for both positions.\n"
   ]
  },
  {
   "cell_type": "code",
   "execution_count": null,
   "id": "401cf906",
   "metadata": {},
   "outputs": [],
   "source": [
    "expimg=itk.imread(\"data/scans/case_012_exp.nii.gz\",itk.F)\n",
    "insimg=itk.imread(\"data/scans/case_012_insp.nii.gz\",itk.F)"
   ]
  },
  {
   "cell_type": "markdown",
   "id": "cfa2d472",
   "metadata": {},
   "source": [
    "## Used Transformations\n",
    "1. Rigid\n",
    "2. Affine \n",
    "2. Bspline\n",
    "3. Bspline with Lung Mask"
   ]
  },
  {
   "cell_type": "markdown",
   "id": "3a442b52",
   "metadata": {},
   "source": [
    "### 1. Rigid\n",
    "\n",
    "For the rigid transformation example we'll use the default parameter map for rigid transformation."
   ]
  },
  {
   "cell_type": "code",
   "execution_count": null,
   "id": "8341a137",
   "metadata": {},
   "outputs": [],
   "source": [
    "parameter_object = itk.ParameterObject.New()\n",
    "parameter_map_rigid = parameter_object.GetDefaultParameterMap('rigid')\n",
    "parameter_object.AddParameterMap(parameter_map_rigid)"
   ]
  },
  {
   "cell_type": "code",
   "execution_count": null,
   "id": "28206609",
   "metadata": {},
   "outputs": [],
   "source": [
    "t0 = time.time()\n",
    "result_rigid, result_rigid_transform_parameters = itk.elastix_registration_method(\n",
    "    insimg, expimg,\n",
    "    parameter_object=parameter_object)\n",
    "dt_1 = time.time() - t0\n",
    "print(\"Registration finished after \", dt_1, \" seconds\")"
   ]
  },
  {
   "cell_type": "markdown",
   "id": "c49e96da",
   "metadata": {},
   "source": [
    "We can see the results with the help of itkwidgets."
   ]
  },
  {
   "cell_type": "code",
   "execution_count": null,
   "id": "7659154c",
   "metadata": {},
   "outputs": [],
   "source": [
    "itkwidgets.compare(expimg,result_rigid)"
   ]
  },
  {
   "cell_type": "markdown",
   "id": "130cb1b3",
   "metadata": {},
   "source": [
    "### 2. Affine \n",
    "\n",
    "For the second transform we'll use the affine parameter maps from the paper *Pulmonary Image Registration with elastix using a Standard Intensity-Based Algorithm*.[[12]](#References)\n",
    "\n"
   ]
  },
  {
   "cell_type": "code",
   "execution_count": null,
   "id": "03cb7463",
   "metadata": {},
   "outputs": [],
   "source": [
    "parameter_object2 = itk.ParameterObject.New()\n",
    "parameter_object2.AddParameterFile(\"Parameters.Par0011.affine.txt\")"
   ]
  },
  {
   "cell_type": "code",
   "execution_count": null,
   "id": "f8dfa22f",
   "metadata": {},
   "outputs": [],
   "source": [
    "t0 = time.time()\n",
    "result_2, result_2_transform_parameters = itk.elastix_registration_method(\n",
    "    insimg, expimg,\n",
    "    parameter_object=parameter_object2)\n",
    "dt_2 = time.time() - t0\n",
    "print(\"Registration finished after \", dt_2, \" seconds\")"
   ]
  },
  {
   "cell_type": "code",
   "execution_count": null,
   "id": "4eb2adef",
   "metadata": {},
   "outputs": [],
   "source": [
    "itkwidgets.compare(expimg,result_2)"
   ]
  },
  {
   "cell_type": "markdown",
   "id": "e08e763e",
   "metadata": {},
   "source": [
    "### 3. Bspline"
   ]
  },
  {
   "cell_type": "code",
   "execution_count": null,
   "id": "d03682ee",
   "metadata": {},
   "outputs": [],
   "source": [
    "parameter_object3 = itk.ParameterObject.New()\n",
    "parameter_object3.AddParameterFile(\"Parameters.Par0011.bspline1_s.txt\")\n",
    "t0 = time.time()\n",
    "result_3, result_3_transform_parameters = itk.elastix_registration_method(\n",
    "    insimg, result_2,\n",
    "    parameter_object=parameter_object3)\n",
    "dt_3 = time.time() - t0\n",
    "print(\"Registration finished after \", dt_3, \" seconds\")"
   ]
  },
  {
   "cell_type": "code",
   "execution_count": null,
   "id": "956630c6",
   "metadata": {},
   "outputs": [],
   "source": [
    "itkwidgets.compare(expimg,result_3)"
   ]
  },
  {
   "cell_type": "markdown",
   "id": "5c9ece40",
   "metadata": {},
   "source": [
    "### 4. Bspline with Mask"
   ]
  },
  {
   "cell_type": "code",
   "execution_count": null,
   "id": "8f4418b2",
   "metadata": {},
   "outputs": [],
   "source": [
    "insmask = itk.imread(\"data/lungMasks/case_012_insp.nii.gz\")"
   ]
  },
  {
   "cell_type": "code",
   "execution_count": null,
   "id": "2d82f9ad",
   "metadata": {},
   "outputs": [],
   "source": [
    "itkwidgets.view(insmask)"
   ]
  },
  {
   "cell_type": "code",
   "execution_count": null,
   "id": "da86f8a4",
   "metadata": {},
   "outputs": [],
   "source": [
    "parameter_object4 = itk.ParameterObject.New()\n",
    "parameter_object4.AddParameterFile(\"Parameters.Par0011.bspline2_s.txt\")"
   ]
  },
  {
   "cell_type": "code",
   "execution_count": null,
   "id": "0762a37f",
   "metadata": {},
   "outputs": [],
   "source": [
    "t0 = time.time()\n",
    "result_4, result_4_transform_parameters = itk.elastix_registration_method(\n",
    "    insimg, result_3, fixed_mask=insmask,\n",
    "    parameter_object=parameter_object4)\n",
    "dt_4 = time.time() - t0\n",
    "print(\"Registration finished after \", dt_4, \" seconds\")"
   ]
  },
  {
   "cell_type": "code",
   "execution_count": null,
   "id": "af134e15",
   "metadata": {},
   "outputs": [],
   "source": [
    "itkwidgets.compare(expimg, result_4)"
   ]
  },
  {
   "cell_type": "markdown",
   "id": "21459a5e",
   "metadata": {},
   "source": [
    "## References\n",
    "\n",
    "1. M. McCormick, X. Liu, J. Jomier, C. Marion, L. Ibanez, \"ITK:enabling reproductible research and open science,\" 2014 Frontiers in Neuroinformatics, doi: 10.3389/fninf.2014.00013.\n",
    "\n",
    "2. ITK website About page, https://itk.org/about.\n",
    "\n",
    "1. Insight Software Consortium website, https://www.insightsoftwareconsortium.org/\n",
    "\n",
    "1. Matt McCormik, \"ITK in Biomedical Research and  Commecial Applications,\" PyData Carolinas, 2016.\n",
    "\n",
    "2. A brief history of time, Elastix wiki, https://github.com/SuperElastix/elastix/wiki/A-brief-history-of-time\n",
    "\n",
    "1. S. Klein, M. Staring, K. Murphy, M. A. Viergever and J. P. W. Pluim, \"elastix: A Toolbox for Intensity-Based Medical Image Registration,\" in IEEE Transactions on Medical Imaging, vol. 29, no. 1, pp. 196-205, Jan. 2010, doi: 10.1109/TMI.2009.2035616.\n",
    "\n",
    "1. K. Marstal, F. Berendsen, M. Staring and S. Klein, \"SimpleElastix: A User-Friendly, Multi-lingual Library for Medical Image Registration,\" 2016 IEEE Conference on Computer Vision and Pattern Recognition Workshops (CVPRW), 2016, pp. 574-582, doi: 10.1109/CVPRW.2016.78.\n",
    "\n",
    "1. What is elastix?, Elastix wiki, https://github.com/SuperElastix/elastix/wiki/What-is-elastix.\n",
    "\n",
    "1. Stefan Klein, Marius Staring, elastix the manual, 2019.\n",
    "\n",
    "1. ITK - Numfocus website, https://numfocus.org/project/itk\n",
    "\n",
    "1. Hering, Alessa, Murphy,Keelin, & van Ginneken, Bram. (2020). Learn2Reg Challenge: CT Lung Registration - Training Data [Data set]. Zenodo. http://doi.org/10.5281/zenodo.3835682\n",
    "\n",
    "1. Staring, Marius & Klein, Stefan & Reiber, Johan & Niessen, W.J. & Stoel, Berend. \"Pulmonary Image Registration with elastix using a Standard Intensity-Based Algorithm,\" 2010."
   ]
  },
  {
   "cell_type": "code",
   "execution_count": null,
   "id": "22aa1c42",
   "metadata": {},
   "outputs": [],
   "source": []
  },
  {
   "cell_type": "code",
   "execution_count": null,
   "id": "7f401b27",
   "metadata": {},
   "outputs": [],
   "source": []
  }
 ],
 "metadata": {
  "kernelspec": {
   "display_name": "Python 3",
   "language": "python",
   "name": "python3"
  },
  "language_info": {
   "codemirror_mode": {
    "name": "ipython",
    "version": 3
   },
   "file_extension": ".py",
   "mimetype": "text/x-python",
   "name": "python",
   "nbconvert_exporter": "python",
   "pygments_lexer": "ipython3",
   "version": "3.9.5"
  }
 },
 "nbformat": 4,
 "nbformat_minor": 5
}
