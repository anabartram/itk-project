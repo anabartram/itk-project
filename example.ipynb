{
 "cells": [
  {
   "cell_type": "markdown",
   "id": "faf64c03",
   "metadata": {},
   "source": [
    "# ITKElastix Projekt"
   ]
  },
  {
   "cell_type": "markdown",
   "id": "ad16c35b",
   "metadata": {},
   "source": [
    "## About ITK\n",
    "SimpleElastix [[1]](#References)"
   ]
  },
  {
   "cell_type": "markdown",
   "id": "b967a3fc",
   "metadata": {},
   "source": [
    "## History\n",
    "\n",
    "1999 US National Institute of Health ( NIH) National Library of Medicine\n",
    "Insightt Toolkit Software\n",
    "Written in C++\n",
    "SimpleITK - a different API for ITK [2] 2011\n",
    "Elastix?\n",
    "SimpleElastix?\n",
    "ITKElastix?\n",
    "ITK-Snap\n",
    "\n"
   ]
  },
  {
   "cell_type": "markdown",
   "id": "2f1caa68",
   "metadata": {},
   "source": [
    "## Features\n",
    "\n",
    "* Filtering\n",
    "* Segmentation\n",
    "* Registration\n"
   ]
  },
  {
   "cell_type": "markdown",
   "id": "5e1f991a",
   "metadata": {},
   "source": [
    "## Documentation\n",
    "\n",
    "Quick-guide\n",
    "https://itkpythonpackage.readthedocs.io/en/master/Quick_start_guide.html"
   ]
  },
  {
   "cell_type": "markdown",
   "id": "ba4f61de",
   "metadata": {},
   "source": [
    "## Project Finance"
   ]
  },
  {
   "cell_type": "markdown",
   "id": "e25bbe32",
   "metadata": {},
   "source": [
    "## Advantages / Disadvantages"
   ]
  },
  {
   "cell_type": "markdown",
   "id": "5da615a5",
   "metadata": {},
   "source": []
  },
  {
   "cell_type": "code",
   "execution_count": 1,
   "id": "492a4e48",
   "metadata": {},
   "outputs": [],
   "source": [
    "import itk,itkwidgets"
   ]
  },
  {
   "cell_type": "markdown",
   "id": "8eacc812",
   "metadata": {},
   "source": [
    "## Data"
   ]
  },
  {
   "cell_type": "code",
   "execution_count": 5,
   "id": "81f2892f",
   "metadata": {},
   "outputs": [],
   "source": [
    "expimg=itk.imread(\"data/scans/case_012_exp.nii.gz\",itk.F)\n",
    "insimg=itk.imread(\"data/scans/case_012_insp.nii.gz\",itk.F)"
   ]
  },
  {
   "cell_type": "markdown",
   "id": "ec064ce9",
   "metadata": {},
   "source": [
    "## Used Transformations\n",
    "1. Rigid\n",
    "2. Affine + Bspline\n",
    "3. Affine + Bspline with Lung Mask"
   ]
  },
  {
   "cell_type": "markdown",
   "id": "f8309c06",
   "metadata": {},
   "source": [
    "### 1. Rigid"
   ]
  },
  {
   "cell_type": "code",
   "execution_count": 3,
   "id": "492e782c",
   "metadata": {},
   "outputs": [],
   "source": [
    "parameter_object = itk.ParameterObject.New()\n",
    "parameter_map_rigid = parameter_object.GetDefaultParameterMap('rigid')\n",
    "parameter_object.AddParameterMap(parameter_map_rigid)"
   ]
  },
  {
   "cell_type": "code",
   "execution_count": 6,
   "id": "e5c08fc4",
   "metadata": {},
   "outputs": [],
   "source": [
    "result_rigid, result_rigid_transform_parameters = itk.elastix_registration_method(\n",
    "    insimg, expimg,\n",
    "    parameter_object=parameter_object)"
   ]
  },
  {
   "cell_type": "code",
   "execution_count": 7,
   "id": "ffebcb67",
   "metadata": {},
   "outputs": [
    {
     "data": {
      "application/vnd.jupyter.widget-view+json": {
       "model_id": "9cbdd956060b4b148f74aa2c8061c4c3",
       "version_major": 2,
       "version_minor": 0
      },
      "text/plain": [
       "AppLayout(children=(HBox(children=(Label(value='Link:'), Checkbox(value=False, description='cmap'), Checkbox(v…"
      ]
     },
     "metadata": {},
     "output_type": "display_data"
    }
   ],
   "source": [
    "itkwidgets.compare(insimg,result_rigid)"
   ]
  },
  {
   "cell_type": "code",
   "execution_count": 30,
   "id": "18edc2a3",
   "metadata": {},
   "outputs": [
    {
     "data": {
      "application/vnd.jupyter.widget-view+json": {
       "model_id": "0aa5cdcba89e4e39a1f7e0d005145284",
       "version_major": 2,
       "version_minor": 0
      },
      "text/plain": [
       "AppLayout(children=(HBox(children=(Label(value='Link:'), Checkbox(value=False, description='cmap'), Checkbox(v…"
      ]
     },
     "metadata": {},
     "output_type": "display_data"
    }
   ],
   "source": [
    "itkwidgets.compare(expimg,result_rigid)"
   ]
  },
  {
   "cell_type": "code",
   "execution_count": null,
   "id": "d25e207d",
   "metadata": {},
   "outputs": [],
   "source": []
  },
  {
   "cell_type": "markdown",
   "id": "045d524b",
   "metadata": {},
   "source": [
    "### 2. Affine + Bspline"
   ]
  },
  {
   "cell_type": "code",
   "execution_count": 19,
   "id": "6c924fb6",
   "metadata": {},
   "outputs": [],
   "source": [
    "parameter_object2 = itk.ParameterObject.New()\n",
    "parameter_object2.AddParameterFile(\"Parameters.Par0011.affine.txt\")\n",
    "parameter_object2.AddParameterFile(\"Parameters.Par0011.bspline1_s.txt\")"
   ]
  },
  {
   "cell_type": "code",
   "execution_count": 20,
   "id": "f48eb630",
   "metadata": {},
   "outputs": [],
   "source": [
    "result_2, result_2_transform_parameters = itk.elastix_registration_method(\n",
    "    insimg, expimg,\n",
    "    parameter_object=parameter_object2)"
   ]
  },
  {
   "cell_type": "code",
   "execution_count": 23,
   "id": "7f2e72ea",
   "metadata": {},
   "outputs": [
    {
     "data": {
      "application/vnd.jupyter.widget-view+json": {
       "model_id": "f2c5a2516fb3411e8509ebb2ef2b2380",
       "version_major": 2,
       "version_minor": 0
      },
      "text/plain": [
       "AppLayout(children=(HBox(children=(Label(value='Link:'), Checkbox(value=False, description='cmap'), Checkbox(v…"
      ]
     },
     "metadata": {},
     "output_type": "display_data"
    }
   ],
   "source": [
    "itkwidgets.compare(expimg,result_2)"
   ]
  },
  {
   "cell_type": "markdown",
   "id": "90637735",
   "metadata": {},
   "source": [
    "### 3. Affine + Bspline with Mask"
   ]
  },
  {
   "cell_type": "code",
   "execution_count": 25,
   "id": "cb3f3c20",
   "metadata": {},
   "outputs": [],
   "source": [
    "insmask = itk.imread(\"data/lungMasks/case_012_insp.nii.gz\")"
   ]
  },
  {
   "cell_type": "code",
   "execution_count": 29,
   "id": "75e861d2",
   "metadata": {},
   "outputs": [
    {
     "data": {
      "application/vnd.jupyter.widget-view+json": {
       "model_id": "5f9ba96a1aed4d0886ac6c9ec0c1ae5c",
       "version_major": 2,
       "version_minor": 0
      },
      "text/plain": [
       "Viewer(geometries=[], gradient_opacity=0.22, point_sets=[], rendered_image=<itk.itkImagePython.itkImageUC3; pr…"
      ]
     },
     "metadata": {},
     "output_type": "display_data"
    }
   ],
   "source": [
    "itkwidgets.view(insmask)"
   ]
  },
  {
   "cell_type": "code",
   "execution_count": 26,
   "id": "7cc60665",
   "metadata": {},
   "outputs": [],
   "source": [
    "parameter_object3 = itk.ParameterObject.New()\n",
    "parameter_object3.AddParameterFile(\"Parameters.Par0011.affine.txt\")\n",
    "parameter_object3.AddParameterFile(\"Parameters.Par0011.bspline2_s.txt\")"
   ]
  },
  {
   "cell_type": "code",
   "execution_count": 27,
   "id": "ff05d2eb",
   "metadata": {},
   "outputs": [],
   "source": [
    "result_3, result_3_transform_parameters = itk.elastix_registration_method(\n",
    "    insimg, expimg, fixed_mask=insmask,\n",
    "    parameter_object=parameter_object3)"
   ]
  },
  {
   "cell_type": "code",
   "execution_count": null,
   "id": "c9d7cc6e",
   "metadata": {},
   "outputs": [],
   "source": []
  },
  {
   "cell_type": "code",
   "execution_count": 28,
   "id": "3b1da051",
   "metadata": {},
   "outputs": [
    {
     "data": {
      "application/vnd.jupyter.widget-view+json": {
       "model_id": "e4299a5b781f4a63bc724855f4f37844",
       "version_major": 2,
       "version_minor": 0
      },
      "text/plain": [
       "AppLayout(children=(HBox(children=(Label(value='Link:'), Checkbox(value=False, description='cmap'), Checkbox(v…"
      ]
     },
     "metadata": {},
     "output_type": "display_data"
    }
   ],
   "source": [
    "itkwidgets.compare(insimg, result_3)"
   ]
  },
  {
   "cell_type": "markdown",
   "id": "cdcbab22",
   "metadata": {},
   "source": [
    "## References\n",
    "\n",
    "**1.** K. Marstal, F. Berendsen, M. Staring and S. Klein, \"SimpleElastix: A User-Friendly, Multi-lingual Library for Medical Image Registration,\" 2016 IEEE Conference on Computer Vision and Pattern Recognition Workshops (CVPRW), 2016, pp. 574-582, doi: 10.1109/CVPRW.2016.78.\n",
    "\n",
    "**2** Matt McCormik, \"ITK in Biomedical Research and  Commecial Applications,\" PyData Carolinas, 2016"
   ]
  },
  {
   "cell_type": "markdown",
   "id": "632d02d4",
   "metadata": {},
   "source": []
  },
  {
   "cell_type": "code",
   "execution_count": null,
   "id": "8402be5b",
   "metadata": {},
   "outputs": [],
   "source": []
  },
  {
   "cell_type": "code",
   "execution_count": null,
   "id": "17955ee4",
   "metadata": {},
   "outputs": [],
   "source": []
  }
 ],
 "metadata": {
  "kernelspec": {
   "display_name": "Python 3",
   "language": "python",
   "name": "python3"
  },
  "language_info": {
   "codemirror_mode": {
    "name": "ipython",
    "version": 3
   },
   "file_extension": ".py",
   "mimetype": "text/x-python",
   "name": "python",
   "nbconvert_exporter": "python",
   "pygments_lexer": "ipython3",
   "version": "3.9.5"
  }
 },
 "nbformat": 4,
 "nbformat_minor": 5
}
