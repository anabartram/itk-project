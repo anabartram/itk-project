{
 "cells": [
  {
   "cell_type": "code",
   "execution_count": 1,
   "id": "4a09dd95",
   "metadata": {},
   "outputs": [],
   "source": [
    "import itk,itkwidgets"
   ]
  },
  {
   "cell_type": "code",
   "execution_count": 2,
   "id": "3667ebdc",
   "metadata": {},
   "outputs": [],
   "source": [
    "expimg=itk.imread(\"data/scans/case_012_exp.nii.gz\")\n",
    "insimg=itk.imread(\"data/scans/case_012_insp.nii.gz\")"
   ]
  },
  {
   "cell_type": "code",
   "execution_count": 3,
   "id": "3c24d896",
   "metadata": {},
   "outputs": [
    {
     "data": {
      "application/vnd.jupyter.widget-view+json": {
       "model_id": "a727ae20e2c748c190858e679c900df3",
       "version_major": 2,
       "version_minor": 0
      },
      "text/plain": [
       "Viewer(geometries=[], gradient_opacity=0.22, point_sets=[], rendered_image=<itk.itkImagePython.itkImageSS3; pr…"
      ]
     },
     "metadata": {},
     "output_type": "display_data"
    }
   ],
   "source": [
    "itkwidgets.view(insimg)"
   ]
  },
  {
   "cell_type": "code",
   "execution_count": null,
   "id": "cccb091b",
   "metadata": {},
   "outputs": [],
   "source": []
  }
 ],
 "metadata": {
  "kernelspec": {
   "display_name": "Python 3",
   "language": "python",
   "name": "python3"
  },
  "language_info": {
   "codemirror_mode": {
    "name": "ipython",
    "version": 3
   },
   "file_extension": ".py",
   "mimetype": "text/x-python",
   "name": "python",
   "nbconvert_exporter": "python",
   "pygments_lexer": "ipython3",
   "version": "3.9.5"
  }
 },
 "nbformat": 4,
 "nbformat_minor": 5
}
